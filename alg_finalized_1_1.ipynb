{
 "cells": [
  {
   "cell_type": "markdown",
   "metadata": {},
   "source": [
    "## College Finding Algorithm\n",
    "\n",
    "Below are the functions we user input through to get our finalized list of colleges. Initially we import our library pandas, and import the filtered dataset, new_data_csv_book.ipyn is the notebook that creates the filtered dataframe file. We also import the Dictionary that maps our majors to the respective column names from our dataframe for future use."
   ]
  },
  {
   "cell_type": "code",
   "execution_count": 1,
   "metadata": {
    "collapsed": true
   },
   "outputs": [],
   "source": [
    "import pandas as pd\n",
    "\n",
    "# Import filtered college dataframe\n",
    "college = pd.read_csv('new_college.csv')\n",
    "# Import key holding mapping between major column name and column description\n",
    "dictionary = pd.read_csv('CollegeScorecard_Raw_Data/CollegeScorecardDataDictionary-09-12-2015.csv')"
   ]
  },
  {
   "cell_type": "markdown",
   "metadata": {},
   "source": [
    "### General Reference List\n",
    "\n",
    "Below, we create a list that holds the index values for each college. In the csv imported, there are 7804 colleges each mapped from an index from 0 to 7803. Here we create a list that spans that range and the list allows us to explore through the pandas dataframe effectively later on."
   ]
  },
  {
   "cell_type": "code",
   "execution_count": 2,
   "metadata": {
    "collapsed": false
   },
   "outputs": [],
   "source": [
    "# Creating List allcollegelist to continuously refer back to\n",
    "\n",
    "allcollegelist = []\n",
    "for i in range(len(college)):\n",
    "    allcollegelist.append(i)"
   ]
  },
  {
   "cell_type": "markdown",
   "metadata": {},
   "source": [
    "Below are all the columns of the imported dataframe csv. They are divided up for convience, and are present for reference. They will not be extensively used below."
   ]
  },
  {
   "cell_type": "code",
   "execution_count": 3,
   "metadata": {
    "collapsed": true
   },
   "outputs": [],
   "source": [
    "# Columns from datafram we will used, divided up into useful sub lists\n",
    "\n",
    "# general columns used to filter out final college list \n",
    "alg_categories = ['CONTROL', 'ADM_RATE',\n",
    "                  'SATVR25', 'SATVR75', 'SATMT25', 'SATMT75', 'SATWR25', 'SATWR75',\n",
    "                  'NPT4_PUB', 'NPT4_PRIV']\n",
    "\n",
    "# racial proportions and total population columns used to filter out final college list\n",
    "alg_race = ['UGDS','UGDS_WHITE', 'UGDS_BLACK', 'UGDS_HISP', 'UGDS_ASIAN',\n",
    "            'UGDS_AIAN', 'UGDS_NHPI', 'UGDS_2MOR', 'UGDS_NRA', 'UGDS_UNKN',\n",
    "            'UGDS_WHITENH', 'UGDS_API', 'UGDS_API']\n",
    "\n",
    "# major percentage at each school given in each columns\n",
    "# each column is a specific major, mapped in the original dataset dictionary\n",
    "alg_majors = ['PCIP01', 'PCIP03', 'PCIP04', 'PCIP05', 'PCIP09', 'PCIP10', 'PCIP11',\n",
    "              'PCIP12', 'PCIP13', 'PCIP14', 'PCIP15', \n",
    "              'PCIP16', 'PCIP19', 'PCIP22', 'PCIP23', 'PCIP24', 'PCIP25', 'PCIP26', 'PCIP27',\n",
    "              'PCIP29', 'PCIP30', 'PCIP31', 'PCIP38', 'PCIP39', 'PCIP40', 'PCIP41', 'PCIP42',\n",
    "              'PCIP43', 'PCIP44', 'PCIP45', 'PCIP46',\n",
    "              'PCIP47', 'PCIP48', 'PCIP49', 'PCIP50', 'PCIP51', 'PCIP52', 'PCIP54']\n",
    "\n",
    "# columns kept in final csv, but used for just displaying info after college filter runs\n",
    "disp_categories = ['OPEID','INSTNM','CITY','STABBR', 'INSTURL', 'HIGHDEG', 'LATITUDE', 'LONGITUDE']"
   ]
  },
  {
   "cell_type": "markdown",
   "metadata": {},
   "source": [
    "### Mapping Majors to Description\n",
    "Below, we create a python dictionary from the csv file that maps information between the column name in the dataframe and the description of the column. We will allow users to type in desired majors, and will search through the descriptions to find hits."
   ]
  },
  {
   "cell_type": "code",
   "execution_count": 4,
   "metadata": {
    "collapsed": true
   },
   "outputs": [],
   "source": [
    "#creating a dictionary where the key is the major variable and the value is the label (name of the major)\n",
    "# Created from the major column name to description map file\n",
    "dmajor = {}\n",
    "for i in range(len(dictionary)):\n",
    "    if str(dictionary.label[i]) != 'nan':\n",
    "        dmajor[dictionary['VARIABLE NAME'][i]] = dictionary.label[i]"
   ]
  },
  {
   "cell_type": "markdown",
   "metadata": {},
   "source": [
    "### Filtering Functions\n",
    "\n",
    "Below are functions that filter the list of colleges made above (allcollegelist) and narrows down subsequently. We initally put the allcollegelist in one function, and put the output into the next function and the next, and finally get the final recommended college list."
   ]
  },
  {
   "cell_type": "code",
   "execution_count": 5,
   "metadata": {
    "collapsed": false
   },
   "outputs": [],
   "source": [
    "def each_sat(score, column, collegelist, percentile):\n",
    "    \"\"\"\n",
    "    Sub Function for section_sat\n",
    "    determines which colleges the specific SAT subject is greater/less than\n",
    "    Compares to one percentile at a time\n",
    "    \"\"\"\n",
    "    filteredlist = []\n",
    "    \n",
    "    if percentile == 25:\n",
    "        for i in collegelist:\n",
    "            if score >= college[column][i]-50:\n",
    "                filteredlist.append(i)\n",
    "    \n",
    "    if percentile == 75:\n",
    "        for i in collegelist:\n",
    "            if score <= college[column][i]+50:\n",
    "                filteredlist.append(i)\n",
    "        \n",
    "    return filteredlist\n",
    "\n",
    "def section_sat(score, section, collegelist):\n",
    "    \"\"\"\n",
    "    Runs section but both percentiles\n",
    "    section = 'VR' or 'WR' or 'MT'\n",
    "    \"\"\"\n",
    "    column25 = 'SAT'+section+'25'\n",
    "    column75 = 'SAT'+section+'75'\n",
    "    \n",
    "    list25 = each_sat(score, column25, collegelist, 25)\n",
    "    list75 = each_sat(score, column75, list25, 75)\n",
    "    \n",
    "    return list75\n",
    "\n",
    "def sat(vrscore, wrscore, mtscore, collegelist):\n",
    "    \"\"\"\n",
    "    Gets SAT Score range of suited college\n",
    "    vrscore: reading score (int)\n",
    "    wrscore: writing score (int)\n",
    "    mtscore: math score (int)\n",
    "    collegelist (list)\n",
    "    \"\"\"\n",
    "    listvr = section_sat(vrscore, 'VR', collegelist)\n",
    "    listwr = section_sat(wrscore, 'WR', listvr)\n",
    "    listmt = section_sat(mtscore, 'MT', listwr)\n",
    "    \n",
    "    return listmt\n",
    "\n",
    "def diversity(pref, collegelist):\n",
    "    \"\"\"\n",
    "    Takes user input in how much racial diversity they want at school\n",
    "    pref = 'low' or 'medium', or 'high'\n",
    "    \"\"\"\n",
    "    r = alg_race[1:]\n",
    "    high = []\n",
    "    medium = collegelist[:]\n",
    "    low = []\n",
    "    for i in collegelist:\n",
    "        highmarker = 1\n",
    "        for race in r:\n",
    "            if college[race][i] >= 0.6:\n",
    "                if i not in low:\n",
    "                    low.append(i)\n",
    "                    medium.remove(i)\n",
    "            if college[race][i] >= 0.35:\n",
    "                highmarker = 0\n",
    "        if highmarker == 1:\n",
    "            high.append(i)\n",
    "            medium.remove(i)\n",
    "    if pref == 'high':\n",
    "        return high\n",
    "    if pref == 'medium':\n",
    "        return medium\n",
    "    if pref == 'low':\n",
    "        return low\n",
    "\n",
    "def public_private(collegelist, preference):\n",
    "    \"\"\"\n",
    "    Outputs schools that users want either public, private, or both\n",
    "    Preference:\n",
    "        both = 0\n",
    "        public = 1\n",
    "        private = 2\n",
    "    \"\"\"\n",
    "    output_list = []\n",
    "    if preference == 0: # Both Types\n",
    "        output_list = collegelist\n",
    "    if preference == 1: # Public College\n",
    "        for i in collegelist:\n",
    "            if str(college['NPT4_PUB'][i]) != 'nan':\n",
    "                output_list.append(i)\n",
    "    if preference == 2: # Private College\n",
    "        for i in collegelist:\n",
    "            if str(college['NPT4_PRIV'][i]) != 'nan':\n",
    "                output_list.append(i)\n",
    "    return output_list\n",
    "\n",
    "def cost(collegelist, max_cost):\n",
    "    \"\"\"\n",
    "    filters out based on how much people want to pay\n",
    "    \"\"\"\n",
    "    output_list = []\n",
    "    for i in collegelist:\n",
    "        if college['NPT4_PUB'][i] < max_cost + 5000:\n",
    "            output_list.append(i)\n",
    "        if college['NPT4_PRIV'][i] < max_cost + 5000:\n",
    "            output_list.append(i)\n",
    "    return output_list\n",
    "\n",
    "def each_major(searchstr, collegelist):\n",
    "    \"\"\"\n",
    "    Analyses one major at a time to get college list\n",
    "    \"\"\"\n",
    "    filteredlist = []\n",
    "    for key in dmajor:\n",
    "        if searchstr.lower() in dmajor[key].lower():\n",
    "            for i in collegelist:\n",
    "                if college[key][i] > 0.05:\n",
    "                    if i not in filteredlist:\n",
    "                        filteredlist.append(i)\n",
    "                    \n",
    "    return filteredlist\n",
    "\n",
    "def major(search, collegelist):\n",
    "    \"\"\"\n",
    "    Analyses many different majors and appends them\n",
    "    Uses each_major\n",
    "    \"\"\"\n",
    "    searchlst = search.split(';')\n",
    "    filteredlist = []\n",
    "    for searchstr in searchlst:\n",
    "        searchlist = each_major(searchstr, collegelist)\n",
    "        for i in searchlist:\n",
    "            if i not in filteredlist:\n",
    "                filteredlist.append(i)\n",
    "    return filteredlist\n",
    "\n",
    "def pref_popul(popul, collegelist, option):\n",
    "    \"\"\"\n",
    "    option = 'more' or 'less'\n",
    "    \"\"\"\n",
    "    filteredlist = []\n",
    "    if option == 'more':\n",
    "        for i in collegelist:\n",
    "            if college['UGDS'][i] > popul:\n",
    "                if i not in filteredlist:\n",
    "                    filteredlist.append(i)\n",
    "    if option == 'less':\n",
    "        for i in collegelist:\n",
    "            if college['UGDS'][i] < popul:\n",
    "                if i not in filteredlist:\n",
    "                    filteredlist.append(i)\n",
    "    \n",
    "    return filteredlist"
   ]
  },
  {
   "cell_type": "markdown",
   "metadata": {},
   "source": [
    "### Using the Algorithm\n",
    "\n",
    "Below we have an example run of the algorithm to get college recommendations. We run through each function, typing in our preferences. "
   ]
  },
  {
   "cell_type": "code",
   "execution_count": 6,
   "metadata": {
    "collapsed": false
   },
   "outputs": [
    {
     "name": "stdout",
     "output_type": "stream",
     "text": [
      "Bradley University\n",
      "University of Evansville\n",
      "Cedarville University\n",
      "Ohio Northern University\n"
     ]
    }
   ],
   "source": [
    "\"\"\"Test run of functions\"\"\"\n",
    "\n",
    "# Filter by SAT score\n",
    "college_list = sat(650,650,650,allcollegelist)\n",
    "\n",
    "# Filter by racial diversity\n",
    "college_list = diversity(\"low\", college_list)\n",
    "\n",
    "# Filter by public (1) or private (2) college or both (3)\n",
    "college_list = public_private(college_list, 2)\n",
    "\n",
    "# Filter by average tuition (including scholarships and financial aid)\n",
    "college_list = cost(college_list, 20000)\n",
    "\n",
    "# Filter by all desired majors separated by ';'\n",
    "college_list = major(\"engineering; english\",college_list)\n",
    "\n",
    "# Filter by maximum or minimum population\n",
    "college_list = pref_popul(10000, college_list, 'less')\n",
    "\n",
    "# Print out college names recommended\n",
    "for i in college_list:\n",
    "        print college['INSTNM'][i]"
   ]
  },
  {
   "cell_type": "code",
   "execution_count": null,
   "metadata": {
    "collapsed": true
   },
   "outputs": [],
   "source": []
  }
 ],
 "metadata": {
  "kernelspec": {
   "display_name": "Python 2",
   "language": "python",
   "name": "python2"
  },
  "language_info": {
   "codemirror_mode": {
    "name": "ipython",
    "version": 2
   },
   "file_extension": ".py",
   "mimetype": "text/x-python",
   "name": "python",
   "nbconvert_exporter": "python",
   "pygments_lexer": "ipython2",
   "version": "2.7.11"
  }
 },
 "nbformat": 4,
 "nbformat_minor": 0
}
