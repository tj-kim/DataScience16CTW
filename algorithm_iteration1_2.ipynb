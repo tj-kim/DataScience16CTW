{
 "cells": [
  {
   "cell_type": "code",
   "execution_count": 3,
   "metadata": {
    "collapsed": false,
    "scrolled": true
   },
   "outputs": [],
   "source": [
    "import pandas as pd\n",
    "\n",
    "college = pd.read_csv('new_college.csv')\n",
    "dictionary = pd.read_csv('CollegeScorecard_Raw_Data/CollegeScorecardDataDictionary-09-12-2015.csv')"
   ]
  },
  {
   "cell_type": "code",
   "execution_count": 4,
   "metadata": {
    "collapsed": false
   },
   "outputs": [],
   "source": [
    "#print college"
   ]
  },
  {
   "cell_type": "code",
   "execution_count": 54,
   "metadata": {
    "collapsed": false
   },
   "outputs": [],
   "source": [
    "allcollegelist = []\n",
    "for i in range(len(college)):\n",
    "    allcollegelist.append(i)\n",
    "    \n",
    "#print allcollegelist"
   ]
  },
  {
   "cell_type": "code",
   "execution_count": 6,
   "metadata": {
    "collapsed": true
   },
   "outputs": [],
   "source": [
    "alg_categories = ['CONTROL', \n",
    "                  'SATVR25', 'SATVR75', 'SATMT25', 'SATMT75', 'SATWR25', 'SATWR75',\n",
    "                  'NPT4_PUB', 'NPT4_PRIV']\n",
    "\n",
    "alg_race = ['UGDS','UGDS_WHITE', 'UGDS_BLACK', 'UGDS_HISP', 'UGDS_ASIAN',\n",
    "            'UGDS_AIAN', 'UGDS_NHPI', 'UGDS_2MOR', 'UGDS_NRA', 'UGDS_UNKN',\n",
    "            'UGDS_WHITENH', 'UGDS_API', 'UGDS_API']\n",
    "\n",
    "alg_majors = ['PCIP01', 'PCIP03', 'PCIP04', 'PCIP05', 'PCIP09', 'PCIP10', 'PCIP11',\n",
    "              'PCIP12', 'PCIP13', 'PCIP14', 'PCIP15', \n",
    "              'PCIP16', 'PCIP19', 'PCIP22', 'PCIP23', 'PCIP24', 'PCIP25', 'PCIP26', 'PCIP27',\n",
    "              'PCIP29', 'PCIP30', 'PCIP31', 'PCIP38', 'PCIP39', 'PCIP40', 'PCIP41', 'PCIP42',\n",
    "              'PCIP43', 'PCIP44', 'PCIP45', 'PCIP46',\n",
    "              'PCIP47', 'PCIP48', 'PCIP49', 'PCIP50', 'PCIP51', 'PCIP52', 'PCIP54']\n",
    "\n",
    "disp_categories = ['OPEID','INSTNM','CITY','STABBR', 'INSTURL', 'HIGHDEG','ADM_RATE']"
   ]
  },
  {
   "cell_type": "code",
   "execution_count": 7,
   "metadata": {
    "collapsed": false
   },
   "outputs": [
    {
     "data": {
      "text/plain": [
       "'inputs = [sat_reading, sat_writing, sat_math, pref_major, race_diversity, public_private, popul, pay]\\nsat_reading = Input SAT Reading Score (integer)\\nsat_writing = Input SAT Writing Score (integer)\\nsat_math = Input SAT Math Score (Integer)\\npref_major = Type in string for desired major\\nrace_diversity = Input [0,1,2] For Low, Medium, High\\npublic_private = Input [0,1] for Public, Private\\npopul = Input [0,1,2] For Low, Medium, High\\npay = Input [0,1,2] For Low, Medium, High\\n'"
      ]
     },
     "execution_count": 7,
     "metadata": {},
     "output_type": "execute_result"
    }
   ],
   "source": [
    "\"\"\"inputs = [sat_reading, sat_writing, sat_math, pref_major, race_diversity, public_private, popul, pay]\n",
    "sat_reading = Input SAT Reading Score (integer)\n",
    "sat_writing = Input SAT Writing Score (integer)\n",
    "sat_math = Input SAT Math Score (Integer)\n",
    "pref_major = Type in string for desired major\n",
    "race_diversity = Input [0,1,2] For Low, Medium, High\n",
    "public_private = Input [0,1] for Public, Private\n",
    "popul = Input [0,1,2] For Low, Medium, High\n",
    "pay = Input [0,1,2] For Low, Medium, High\n",
    "\"\"\"\n",
    "\n"
   ]
  },
  {
   "cell_type": "code",
   "execution_count": 74,
   "metadata": {
    "collapsed": false
   },
   "outputs": [
    {
     "name": "stdout",
     "output_type": "stream",
     "text": [
      "4324 2500 980\n"
     ]
    }
   ],
   "source": [
    "def diversity(pref, collegelist):\n",
    "    \"\"\"\n",
    "    pref = 'low' or 'medium', or 'high'\n",
    "    \"\"\"\n",
    "    r = alg_race[1:]\n",
    "    high = []\n",
    "    medium = collegelist[:]\n",
    "    low = []\n",
    "    for i in collegelist:\n",
    "        highmarker = 1\n",
    "        for race in r:\n",
    "            if college[race][i] >= 0.6:\n",
    "                if i not in low:\n",
    "                    low.append(i)\n",
    "                    medium.remove(i)\n",
    "            if college[race][i] >= 0.35:\n",
    "                highmarker = 0\n",
    "        if highmarker == 1:\n",
    "            high.append(i)\n",
    "            medium.remove(i)\n",
    "    if pref == 'high':\n",
    "        return high\n",
    "    if pref == 'medium':\n",
    "        return medium\n",
    "    if pref == 'low':\n",
    "        return low\n",
    "\n",
    "low = diversity('low', allcollegelist)\n",
    "medium = diversity('medium', allcollegelist)\n",
    "high = diversity('high', allcollegelist)\n",
    "\n",
    "print len(low), len(medium), len(high)"
   ]
  },
  {
   "cell_type": "code",
   "execution_count": 28,
   "metadata": {
    "collapsed": false
   },
   "outputs": [
    {
     "name": "stdout",
     "output_type": "stream",
     "text": [
      "7804 1923 4753\n"
     ]
    }
   ],
   "source": [
    "\"\"\"\n",
    "#Creating lists with id of private college and public college\n",
    "privatecollege = []\n",
    "publiccollege = []\n",
    "for i in allcollegelist:\n",
    "    if str(college['NPT4_PUB'][i]) != 'nan':\n",
    "        publiccollege.append(i)\n",
    "    if str(college['NPT4_PRIV'][i]) != 'nan':\n",
    "        privatecollege.append(i)\n",
    "\"\"\"\n",
    "        \n",
    "def public_private(collegelist, preference):\n",
    "    output_list = []\n",
    "    if preference == 0: # Both Types\n",
    "        output_list = collegelist\n",
    "    if preference == 1: # Public College\n",
    "        for i in collegelist:\n",
    "            if str(college['NPT4_PUB'][i]) != 'nan':\n",
    "                output_list.append(i)\n",
    "    if preference == 2: # Private College\n",
    "        for i in collegelist:\n",
    "            if str(college['NPT4_PRIV'][i]) != 'nan':\n",
    "                output_list.append(i)\n",
    "    return output_list\n",
    "\n",
    "\"\"\"\n",
    "print '# private colleges:', len(privatecollege)\n",
    "print '# public colleges:', len(publiccollege)\n",
    "print '# all colleges:', len(allcollegelist)\n",
    "\"\"\"\n",
    "\n",
    "print len(public_private(allcollegelist, 0)), len(public_private(allcollegelist, 1)),len(public_private(allcollegelist, 2))"
   ]
  },
  {
   "cell_type": "code",
   "execution_count": 31,
   "metadata": {
    "collapsed": false
   },
   "outputs": [
    {
     "name": "stdout",
     "output_type": "stream",
     "text": [
      "3252\n"
     ]
    }
   ],
   "source": [
    "\"\"\"\n",
    "filters out based on how much people want to pay\n",
    "\"\"\"\n",
    "\n",
    "def cost(collegelist, max_cost):\n",
    "    output_list = []\n",
    "    for i in collegelist:\n",
    "        if college['NPT4_PUB'][i] < max_cost + 5000:\n",
    "            output_list.append(i)\n",
    "        if college['NPT4_PRIV'][i] < max_cost + 5000:\n",
    "            output_list.append(i)\n",
    "    return output_list\n",
    "\n",
    "print len(cost(allcollegelist, 10000))"
   ]
  },
  {
   "cell_type": "code",
   "execution_count": 9,
   "metadata": {
    "collapsed": false
   },
   "outputs": [
    {
     "name": "stdout",
     "output_type": "stream",
     "text": [
      "{'PCIP04': 'Architecture and Related Services', 'PCIP05': 'Area, Ethnic, Cultural, Gender, and Group Studies', 'PCIP24': 'Liberal Arts and Sciences, General Studies and Humanities', 'PCIP25': 'Library Science', 'PCIP26': 'Biological and Biomedical Sciences', 'PCIP01': 'Agriculture, Agriculture Operations, and Related Sciences', 'PCIP42': 'Psychology', 'PCIP29': 'Military Technologies and Applied Sciences', 'PCIP40': 'Physical Sciences', 'PCIP41': 'Science Technologies/Technicians', 'PCIP46': 'Construction Trades', 'PCIP22': 'Legal Professions and Studies', 'PCIP44': 'Public Administration and Social Service Professions', 'PCIP09': 'Communication, Journalism, and Related Programs', 'PCIP23': 'English Language and Literature/Letters', 'PCIP47': 'Mechanic and Repair Technologies/Technicians', 'PCIP03': 'Natural Resources and Conservation', 'PCIP39': 'Theology and Religious Vocations', 'PCIP27': 'Mathematics and Statistics', 'PCIP43': 'Homeland Security, Law Enforcement, Firefighting and Related Protective Services', 'PCIP15': 'Engineering Technologies and Engineering-Related Fields', 'PCIP14': 'Engineering', 'PCIP16': 'Foreign Languages, Literatures, and Linguistics', 'PCIP11': 'Computer and Information Sciences and Support Services', 'PCIP10': 'Communications Technologies/Technicians and Support Services', 'PCIP13': 'Education', 'PCIP12': 'Personal and Culinary Services', 'PCIP51': 'Health Professions and Related Programs', 'PCIP50': 'Visual and Performing Arts', 'PCIP52': 'Business, Management, Marketing, and Related Support Services', 'PCIP19': 'Family and Consumer Sciences/Human Sciences', 'PCIP54': 'History', 'PCIP31': 'Parks, Recreation, Leisure, and Fitness Studies', 'PCIP30': 'Multi/Interdisciplinary Studies', 'PCIP38': 'Philosophy and Religious Studies', 'PCIP45': 'Social Sciences', 'PCIP48': 'Precision Production', 'PCIP49': 'Transportation and Materials Moving'}\n"
     ]
    }
   ],
   "source": [
    "#creating a dictionary where the key is the major variable and the value is the label (name of the major)\n",
    "dmajor = {}\n",
    "for i in range(len(dictionary)):\n",
    "    if str(dictionary.label[i]) != 'nan':\n",
    "        dmajor[dictionary['VARIABLE NAME'][i]] = dictionary.label[i]\n",
    "print dmajor"
   ]
  },
  {
   "cell_type": "code",
   "execution_count": 10,
   "metadata": {
    "collapsed": false
   },
   "outputs": [],
   "source": [
    "def each_major(searchstr, collegelist):\n",
    "    filteredlist = []\n",
    "    for key in dmajor:\n",
    "        if searchstr.lower() in dmajor[key].lower():\n",
    "            for i in collegelist:\n",
    "                if college[key][i] > 0.05:\n",
    "                    if i not in filteredlist:\n",
    "                        filteredlist.append(i)\n",
    "                    \n",
    "    return filteredlist\n",
    "\n",
    "def major(search, collegelist):\n",
    "    searchlst = search.split(';')\n",
    "    filteredlist = []\n",
    "    for searchstr in searchlst:\n",
    "        searchlist = each_major(searchstr, collegelist)\n",
    "        for i in searchlist:\n",
    "            if i not in filteredlist:\n",
    "                filteredlist.append(i)\n",
    "    return filteredlist"
   ]
  },
  {
   "cell_type": "code",
   "execution_count": 11,
   "metadata": {
    "collapsed": false
   },
   "outputs": [],
   "source": [
    "def each_sat(score, column, collegelist, percentile):\n",
    "    filteredlist = []\n",
    "    \n",
    "    if percentile == 25:\n",
    "        for i in collegelist:\n",
    "            if score >= college[column][i]-50:\n",
    "                filteredlist.append(i)\n",
    "    \n",
    "    if percentile == 75:\n",
    "        for i in collegelist:\n",
    "            if score <= college[column][i]+50:\n",
    "                filteredlist.append(i)\n",
    "        \n",
    "    return filteredlist\n",
    "\n",
    "def section_sat(score, section, collegelist):\n",
    "    \"\"\"\n",
    "    section = 'VR' or 'WR' or 'MT'\n",
    "    \"\"\"\n",
    "    column25 = 'SAT'+section+'25'\n",
    "    column75 = 'SAT'+section+'75'\n",
    "    \n",
    "    list25 = each_sat(score, column25, collegelist, 25)\n",
    "    list75 = each_sat(score, column75, list25, 75)\n",
    "    \n",
    "    return list75\n",
    "\n",
    "def sat(vrscore, wrscore, mtscore, collegelist):\n",
    "    \"\"\"\n",
    "    vrscore: reading score (int)\n",
    "    wrscore: writing score (int)\n",
    "    mtscore: math score (int)\n",
    "    collegelist (list)\n",
    "    \"\"\"\n",
    "    listvr = section_sat(vrscore, 'VR', collegelist)\n",
    "    listwr = section_sat(wrscore, 'WR', listvr)\n",
    "    listmt = section_sat(mtscore, 'MT', listwr)\n",
    "    \n",
    "    return listmt"
   ]
  },
  {
   "cell_type": "code",
   "execution_count": 12,
   "metadata": {
    "collapsed": false
   },
   "outputs": [],
   "source": [
    "\"\"\"\n",
    "popul = Input [0,1,2] For Low, Medium, High\n",
    "    UGDS\n",
    "    small < 5000\n",
    "    medium, 5000 < x < 15000\n",
    "    big > 15000\n",
    "\n",
    "testing for small population\n",
    "\n",
    "\"\"\"\n",
    "def pref_popul(popul, collegelist, option):\n",
    "    \"\"\"\n",
    "    option = 'more' or 'less'\n",
    "    \"\"\"\n",
    "    filteredlist = []\n",
    "    if option == 'more':\n",
    "        for i in collegelist:\n",
    "            if college['UGDS'][i] > popul:\n",
    "                if i not in filteredlist:\n",
    "                    filteredlist.append(i)\n",
    "    if option == 'less':\n",
    "        for i in collegelist:\n",
    "            if college['UGDS'][i] < popul:\n",
    "                if i not in filteredlist:\n",
    "                    filteredlist.append(i)\n",
    "    \n",
    "    return filteredlist"
   ]
  },
  {
   "cell_type": "code",
   "execution_count": null,
   "metadata": {
    "collapsed": true
   },
   "outputs": [],
   "source": [
    "\"\"\"\n",
    "public_private = Input [0,1,2] for Both, Public, Private\n",
    "    Check if NPT4_PUB is null or not\n",
    "    Check if NPT4_PRIV is null or not\n",
    "    \n",
    "    If both null, output neither, include in list\n",
    "    If one exists, it is either public or private\n",
    "\"\"\"\n",
    "\n"
   ]
  },
  {
   "cell_type": "code",
   "execution_count": 80,
   "metadata": {
    "collapsed": false
   },
   "outputs": [
    {
     "name": "stdout",
     "output_type": "stream",
     "text": [
      "Harvey Mudd College\n",
      "Northwestern University\n",
      "Johns Hopkins University\n",
      "Massachusetts Institute of Technology\n",
      "Tufts University\n",
      "Washington University in St Louis\n",
      "Dartmouth College\n",
      "Princeton University\n",
      "Columbia University in the City of New York\n",
      "Cooper Union for the Advancement of Science and Art\n",
      "University of Rochester\n",
      "Duke University\n",
      "Case Western Reserve University\n",
      "Carnegie Mellon University\n",
      "Swarthmore College\n",
      "Brown University\n",
      "Rice University\n",
      "Stanford University\n",
      "Franklin W Olin College of Engineering\n",
      "Claremont McKenna College\n",
      "Occidental College\n",
      "Wesleyan University\n",
      "Yale University\n",
      "University of Chicago\n",
      "Colby College\n",
      "Amherst College\n",
      "Boston College\n",
      "Wellesley College\n",
      "Williams College\n",
      "Barnard College\n",
      "Bryn Mawr College\n",
      "College of William and Mary\n"
     ]
    }
   ],
   "source": [
    "collegelist = sat(700,700,700,allcollegelist)\n",
    "search = 'engINEering; literature'\n",
    "collegelist = major(search, collegelist)\n",
    "collegelist =  pref_popul(10000, collegelist, 'less')\n",
    "collegelist = diversity('medium', collegelist)\n",
    "for i in collegelist:\n",
    "        print college['INSTNM'][i]"
   ]
  },
  {
   "cell_type": "code",
   "execution_count": null,
   "metadata": {
    "collapsed": true
   },
   "outputs": [],
   "source": []
  },
  {
   "cell_type": "code",
   "execution_count": null,
   "metadata": {
    "collapsed": true
   },
   "outputs": [],
   "source": []
  }
 ],
 "metadata": {
  "kernelspec": {
   "display_name": "Python 2",
   "language": "python",
   "name": "python2"
  },
  "language_info": {
   "codemirror_mode": {
    "name": "ipython",
    "version": 2
   },
   "file_extension": ".py",
   "mimetype": "text/x-python",
   "name": "python",
   "nbconvert_exporter": "python",
   "pygments_lexer": "ipython2",
   "version": "2.7.11"
  }
 },
 "nbformat": 4,
 "nbformat_minor": 0
}
